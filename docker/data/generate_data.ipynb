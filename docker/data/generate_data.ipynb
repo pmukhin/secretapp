{
 "cells": [
  {
   "cell_type": "code",
   "execution_count": 272,
   "metadata": {},
   "outputs": [],
   "source": [
    "from datetime import datetime\n",
    "from datetime import timedelta\n",
    "from random import uniform\n",
    "from random import randint\n",
    "import pandas as pd\n",
    "names = [\n",
    "    \"Salina Overcash\",\n",
    "    \"Tess Bessey\",\n",
    "    \"Sherell Cotnoir\",\n",
    "    \"Donna Lehmann\",\n",
    "    \"Alene Reames\",\n",
    "    \"Jeffrey Morency\",\n",
    "    \"Lashawna Null\",\n",
    "    \"Nakia Storment\",\n",
    "    \"Lorrine Alldredge\",\n",
    "    \"Lara Efaw\",\n",
    "    \"Liliana Rardin\",\n",
    "    \"Eleanor Bolduc\",\n",
    "    \"Mari Pennel\",\n",
    "    \"Lauran Semon\",\n",
    "    \"Emmitt Gadsden\",\n",
    "    \"Aura Lafollette\",\n",
    "    \"Tawanda Carbonaro\",\n",
    "    \"Seth Gambrell\",\n",
    "    \"Lucrecia Haller\",\n",
    "    \"Vanda Chatmon\",\n",
    "    \"Nathaniel Veale\",\n",
    "    \"Leida Pfau\",\n",
    "    \"Ardis Cordoba\",\n",
    "    \"Seymour Burell\",\n",
    "    \"Bryan Hetzler\",\n",
    "    \"Anjelica Dunphy\",\n",
    "    \"Onie Fehrenbach\",\n",
    "    \"Loan Guerrier\",\n",
    "    \"Stormy Lemmons\",\n",
    "    \"Liberty Spann\",\n",
    "    \"Jeana Blubaugh\",\n",
    "    \"Doretha Mccracken\",\n",
    "    \"Edwin Belton\",\n",
    "    \"Ashly Gaskill\",\n",
    "    \"Zenobia Pressnell\",\n",
    "    \"Anisa Igo\",\n",
    "    \"Adolph Jiles\",\n",
    "    \"Matthew Ragon\",\n",
    "    \"Isobel Daigre\",\n",
    "    \"Bethel Antrim\",\n",
    "    \"Sarai Vire\",\n",
    "    \"Roland Chancellor\",\n",
    "    \"Particia Mongillo\",\n",
    "    \"Annabel Borey\",\n",
    "    \"Willodean Mackey\",\n",
    "    \"Marilou Capp\",\n",
    "    \"Shelia Corrie\",\n",
    "    \"Deanne Weekley\",\n",
    "    \"Claudio Braggs\",\n",
    "    \"Faith Priddy\",\n",
    "]"
   ]
  },
  {
   "cell_type": "code",
   "execution_count": 273,
   "metadata": {},
   "outputs": [],
   "source": [
    "def bod():\n",
    "    return '{y}-{m}-{d}'.format(y=randint(1956, 2000), m=randint(1,12), d=randint(1,28))\n",
    "    \n",
    "clients = [\n",
    "    (\n",
    "    i,\n",
    "    names[randint(0, len(names)-1)].split(' ')[0], \n",
    "     names[randint(0, len(names)-1)].split(' ')[1],\n",
    "     bod(),\n",
    "     '1' if randint(0, 5) == 5 else '0'\n",
    "    ) for i in range(1, 501)]"
   ]
  },
  {
   "cell_type": "code",
   "execution_count": 283,
   "metadata": {},
   "outputs": [],
   "source": [
    "start = datetime(2017, 1, 12, 0, 0, 0)\n",
    "tariffs = [\n",
    "    (\n",
    "     i,\n",
    "     uniform(2.5, 4.8), \n",
    "     uniform(1.5, 1.8) if randint(1, 5) == 4 else None,\n",
    "     start + timedelta(days=20*i), \n",
    "     '1' if randint(0, 5) == 5 else '0'\n",
    "    ) for i in range(1, 60)\n",
    "]"
   ]
  },
  {
   "cell_type": "code",
   "execution_count": 287,
   "metadata": {},
   "outputs": [],
   "source": [
    "start = datetime(2017, 1, 12, 0, 0, 0)\n",
    "sessions = []\n",
    "for ci, c in enumerate(clients):\n",
    "    sessions.extend([\n",
    "        (\n",
    "          i+ci+(144*ci-ci),\n",
    "          start + timedelta(days=6*i, hours=4, minutes=randint(1, 46)s),\n",
    "          start + timedelta(days=6*i, hours=randint(4,7), minutes=randint(1, 56)),\n",
    "          c[0],\n",
    "          randint(1, 130) # chargePointId\n",
    "        ) for i in range(1, 145)\n",
    "    ])"
   ]
  },
  {
   "cell_type": "code",
   "execution_count": 288,
   "metadata": {},
   "outputs": [],
   "source": [
    "clients_df = pd.DataFrame(clients)\n",
    "clients_df.to_csv(path_or_buf='/tmp/clients.csv', header=False, index=0)"
   ]
  },
  {
   "cell_type": "code",
   "execution_count": 289,
   "metadata": {},
   "outputs": [],
   "source": [
    "tariffs_df = pd.DataFrame(tariffs)\n",
    "tariffs_df.to_csv(path_or_buf='/tmp/tariffs.csv', header=False, index=0)"
   ]
  },
  {
   "cell_type": "code",
   "execution_count": 290,
   "metadata": {},
   "outputs": [],
   "source": [
    "sessions_df = pd.DataFrame(sessions)\n",
    "sessions_df.to_csv(path_or_buf='/tmp/sessions.csv', header=False, index=0)"
   ]
  },
  {
   "cell_type": "code",
   "execution_count": null,
   "metadata": {},
   "outputs": [],
   "source": []
  },
  {
   "cell_type": "code",
   "execution_count": null,
   "metadata": {},
   "outputs": [],
   "source": []
  }
 ],
 "metadata": {
  "kernelspec": {
   "display_name": "Python 3",
   "language": "python",
   "name": "python3"
  },
  "language_info": {
   "codemirror_mode": {
    "name": "ipython",
    "version": 3
   },
   "file_extension": ".py",
   "mimetype": "text/x-python",
   "name": "python",
   "nbconvert_exporter": "python",
   "pygments_lexer": "ipython3",
   "version": "3.7.3"
  }
 },
 "nbformat": 4,
 "nbformat_minor": 2
}
